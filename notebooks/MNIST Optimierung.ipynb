{
 "cells": [
  {
   "cell_type": "markdown",
   "id": "0b7b1d9a-326a-4f25-b0ab-c97960d739c0",
   "metadata": {},
   "source": [
    "# MNIST Optimierung"
   ]
  },
  {
   "cell_type": "markdown",
   "id": "10075a4d-b1ac-4a2f-9069-5632633b809d",
   "metadata": {},
   "source": [
    "## Imports"
   ]
  },
  {
   "cell_type": "code",
   "execution_count": 1,
   "id": "9d30419e-917c-4d6c-a96f-0ad1bb77d5c9",
   "metadata": {},
   "outputs": [],
   "source": [
    "from keras.datasets import mnist\n",
    "import numpy as np\n",
    "import matplotlib.pyplot as plt\n",
    "from tensorflow import keras\n",
    "import tensorflow as tf\n",
    "import pandas as pd"
   ]
  },
  {
   "cell_type": "markdown",
   "id": "5b7f01e7-93f3-481b-af3a-0b009312d8bb",
   "metadata": {},
   "source": [
    "## Datensatz laden"
   ]
  },
  {
   "cell_type": "code",
   "execution_count": 3,
   "id": "9cce7253-1cb6-47e9-8808-5b4fa735cda7",
   "metadata": {},
   "outputs": [],
   "source": [
    "(x_train, y_train), (x_test, y_test) = mnist.load_data()"
   ]
  },
  {
   "cell_type": "markdown",
   "id": "dc11e791-b2c5-4cd3-ab31-cc92894a2156",
   "metadata": {},
   "source": [
    "## Daten umwandeln und normalisieren"
   ]
  },
  {
   "cell_type": "code",
   "execution_count": 4,
   "id": "17c38ddc-a932-49bf-9723-a7940e9b4218",
   "metadata": {},
   "outputs": [],
   "source": [
    "x_train = x_train.reshape((x_train.shape[0], 28 * 28))\n",
    "x_test = x_test.reshape((x_test.shape[0], 28 * 28))\n",
    "\n",
    "x_train = x_train/255.0\n",
    "x_test = x_test/255.0"
   ]
  },
  {
   "cell_type": "markdown",
   "id": "3564634c-a88b-4517-9ec2-f9ebf1650c9b",
   "metadata": {},
   "source": [
    "## One-Hot Encoding"
   ]
  },
  {
   "cell_type": "code",
   "execution_count": 5,
   "id": "af9e2164-4a9e-4182-9a32-c50850179995",
   "metadata": {},
   "outputs": [],
   "source": [
    "y_train = keras.utils.to_categorical(y_train)\n",
    "y_test = keras.utils.to_categorical(y_test)"
   ]
  },
  {
   "cell_type": "markdown",
   "id": "a724f973-98e3-4d17-a579-18d85511c7e9",
   "metadata": {},
   "source": [
    "## Modell definieren"
   ]
  },
  {
   "cell_type": "code",
   "execution_count": 7,
   "id": "bdd28d1e-3445-463d-acaf-81e38909be81",
   "metadata": {},
   "outputs": [],
   "source": [
    "simple_model = tf.keras.models.Sequential()\n",
    "simple_model.name = \"simple_model\"\n",
    "simple_model.add(tf.keras.layers.Dense(256, activation='relu', input_shape=(28*28,)))\n",
    "simple_model.add(tf.keras.layers.Dense(64, activation='relu'))\n",
    "simple_model.add(tf.keras.layers.Dense(32, activation='relu'))\n",
    "simple_model.add(tf.keras.layers.Dense(10, activation='softmax'))\n",
    "\n",
    "simple_model.compile(loss='categorical_crossentropy', optimizer='adam', metrics=['accuracy'])"
   ]
  },
  {
   "cell_type": "markdown",
   "id": "42b5add4-2257-460c-950b-c2cab714955c",
   "metadata": {},
   "source": [
    "## Modell trainieren"
   ]
  },
  {
   "cell_type": "code",
   "execution_count": null,
   "id": "bd021abf-32c9-4246-9980-e63251b16553",
   "metadata": {},
   "outputs": [
    {
     "name": "stdout",
     "output_type": "stream",
     "text": [
      "Epoch 1/50\n",
      "\u001b[1m1500/1500\u001b[0m \u001b[32m━━━━━━━━━━━━━━━━━━━━\u001b[0m\u001b[37m\u001b[0m \u001b[1m2s\u001b[0m 1ms/step - accuracy: 0.8610 - loss: 0.4661 - val_accuracy: 0.9592 - val_loss: 0.1283\n",
      "Epoch 2/50\n",
      "\u001b[1m1500/1500\u001b[0m \u001b[32m━━━━━━━━━━━━━━━━━━━━\u001b[0m\u001b[37m\u001b[0m \u001b[1m2s\u001b[0m 1ms/step - accuracy: 0.9659 - loss: 0.1090 - val_accuracy: 0.9722 - val_loss: 0.0940\n",
      "Epoch 3/50\n",
      "\u001b[1m1500/1500\u001b[0m \u001b[32m━━━━━━━━━━━━━━━━━━━━\u001b[0m\u001b[37m\u001b[0m \u001b[1m2s\u001b[0m 1ms/step - accuracy: 0.9796 - loss: 0.0661 - val_accuracy: 0.9724 - val_loss: 0.0940\n",
      "Epoch 4/50\n",
      "\u001b[1m1500/1500\u001b[0m \u001b[32m━━━━━━━━━━━━━━━━━━━━\u001b[0m\u001b[37m\u001b[0m \u001b[1m2s\u001b[0m 1ms/step - accuracy: 0.9842 - loss: 0.0493 - val_accuracy: 0.9706 - val_loss: 0.1025\n",
      "Epoch 5/50\n",
      "\u001b[1m1500/1500\u001b[0m \u001b[32m━━━━━━━━━━━━━━━━━━━━\u001b[0m\u001b[37m\u001b[0m \u001b[1m2s\u001b[0m 1ms/step - accuracy: 0.9880 - loss: 0.0385 - val_accuracy: 0.9672 - val_loss: 0.1277\n",
      "Epoch 6/50\n",
      "\u001b[1m1500/1500\u001b[0m \u001b[32m━━━━━━━━━━━━━━━━━━━━\u001b[0m\u001b[37m\u001b[0m \u001b[1m2s\u001b[0m 1ms/step - accuracy: 0.9906 - loss: 0.0302 - val_accuracy: 0.9703 - val_loss: 0.1082\n",
      "Epoch 7/50\n",
      "\u001b[1m1500/1500\u001b[0m \u001b[32m━━━━━━━━━━━━━━━━━━━━\u001b[0m\u001b[37m\u001b[0m \u001b[1m2s\u001b[0m 1ms/step - accuracy: 0.9905 - loss: 0.0274 - val_accuracy: 0.9756 - val_loss: 0.1001\n",
      "Epoch 8/50\n",
      "\u001b[1m 942/1500\u001b[0m \u001b[32m━━━━━━━━━━━━\u001b[0m\u001b[37m━━━━━━━━\u001b[0m \u001b[1m0s\u001b[0m 1ms/step - accuracy: 0.9925 - loss: 0.0206"
     ]
    }
   ],
   "source": [
    "hist1 = simple_model.fit(x_train, y_train, epochs=50, batch_size=32, validation_split=0.20)"
   ]
  }
 ],
 "metadata": {
  "kernelspec": {
   "display_name": "Python 3 (ipykernel)",
   "language": "python",
   "name": "python3"
  },
  "language_info": {
   "codemirror_mode": {
    "name": "ipython",
    "version": 3
   },
   "file_extension": ".py",
   "mimetype": "text/x-python",
   "name": "python",
   "nbconvert_exporter": "python",
   "pygments_lexer": "ipython3",
   "version": "3.12.3"
  }
 },
 "nbformat": 4,
 "nbformat_minor": 5
}
