{
 "cells": [
  {
   "cell_type": "markdown",
   "metadata": {
    "collapsed": false,
    "jupyter": {
     "outputs_hidden": false
    }
   },
   "source": [
    "# Installationskontrolle\n",
    "Mithilfe dieses Notebook kontrollieren wir, ob die notwendige Python Version und der Pakete für diesen Kurs installiert worden sind.\n",
    "Für die Installation von Python und Pycharm finden sie seperate Folien auf unserer Moodle Seite."
   ]
  },
  {
   "cell_type": "markdown",
   "metadata": {
    "collapsed": false,
    "jupyter": {
     "outputs_hidden": false
    }
   },
   "source": [
    "Um dies durchführen zu können benötigen wir im ersten Schritt das Paket sys. "
   ]
  },
  {
   "cell_type": "code",
   "execution_count": 1,
   "metadata": {},
   "outputs": [
    {
     "data": {
      "text/plain": [
       "'3.12.3 (main, Apr  9 2024, 08:09:14) [Clang 15.0.0 (clang-1500.3.9.4)]'"
      ]
     },
     "execution_count": 1,
     "metadata": {},
     "output_type": "execute_result"
    }
   ],
   "source": [
    "import sys\n",
    "\n",
    "sys.version"
   ]
  },
  {
   "cell_type": "markdown",
   "metadata": {
    "collapsed": false,
    "jupyter": {
     "outputs_hidden": false
    }
   },
   "source": [
    "## Notwendige Python Version\n",
    "In diesem Kurs arbeiten wir mit der Python Version 3.10. Alle Kursunterlagen wurden mit dieser Version vorbereitet und getestet. Ich kann die Funktionalität nur unter dieser Version garantieren."
   ]
  },
  {
   "cell_type": "code",
   "execution_count": 2,
   "metadata": {
    "collapsed": false,
    "jupyter": {
     "outputs_hidden": false
    }
   },
   "outputs": [
    {
     "name": "stdout",
     "output_type": "stream",
     "text": [
      "Python Version ist OK\n"
     ]
    }
   ],
   "source": [
    "python_version = sys.version_info\n",
    "\n",
    "assert python_version[0] >= 3\n",
    "assert python_version[1] >= 10\n",
    "\n",
    "print(\"Python Version ist OK\")"
   ]
  },
  {
   "cell_type": "code",
   "execution_count": 3,
   "metadata": {
    "collapsed": false,
    "jupyter": {
     "outputs_hidden": false
    }
   },
   "outputs": [
    {
     "data": {
      "text/plain": [
       "sys.version_info(major=3, minor=12, micro=3, releaselevel='final', serial=0)"
      ]
     },
     "execution_count": 3,
     "metadata": {},
     "output_type": "execute_result"
    }
   ],
   "source": [
    "python_version"
   ]
  },
  {
   "cell_type": "markdown",
   "metadata": {
    "collapsed": false,
    "jupyter": {
     "outputs_hidden": false
    }
   },
   "source": [
    "## Notwendige Pakete\n",
    "Das Ziel dieses Kurses ist es Datenanalyse auf reellen Datensätzen durchzuführen. Für diesen Zweck benötigen wir folgende geschriebene Pakete:\n",
    "- NumPy: für die Handhabung von Vektoren, Matrizen oder generell grossen mehrdimensionalen Array\n",
    "- Pandas: für die Handhabung von Verarbeitung, Analyse und Darstellung von Daten\n",
    "- Scikit-Learn: bietet verschiedene Datenaufbereitungsfunktionen und Machine Learning Modelle\n",
    "- Matplotlib: für die einfache Darstellung von Resultaten\n",
    "- Plotly: für die interaktive Darstellung von Resultaten\n",
    "- Tensorflow: für deep learning Modelle"
   ]
  },
  {
   "cell_type": "code",
   "execution_count": 4,
   "metadata": {
    "collapsed": false,
    "jupyter": {
     "outputs_hidden": false
    }
   },
   "outputs": [
    {
     "name": "stdout",
     "output_type": "stream",
     "text": [
      "Requirement already satisfied: numpy in /Users/ystaudt/opt/anaconda3/envs/keras/lib/python3.10/site-packages (1.24.2)\r\n",
      "Requirement already satisfied: pandas in /Users/ystaudt/opt/anaconda3/envs/keras/lib/python3.10/site-packages (1.5.3)\r\n",
      "Requirement already satisfied: python-dateutil>=2.8.1 in /Users/ystaudt/opt/anaconda3/envs/keras/lib/python3.10/site-packages (from pandas) (2.8.2)\r\n",
      "Requirement already satisfied: numpy>=1.21.0 in /Users/ystaudt/opt/anaconda3/envs/keras/lib/python3.10/site-packages (from pandas) (1.24.2)\r\n",
      "Requirement already satisfied: pytz>=2020.1 in /Users/ystaudt/opt/anaconda3/envs/keras/lib/python3.10/site-packages (from pandas) (2022.7.1)\r\n",
      "Requirement already satisfied: six>=1.5 in /Users/ystaudt/opt/anaconda3/envs/keras/lib/python3.10/site-packages (from python-dateutil>=2.8.1->pandas) (1.16.0)\r\n",
      "Requirement already satisfied: scikit-learn in /Users/ystaudt/opt/anaconda3/envs/keras/lib/python3.10/site-packages (1.2.2)\r\n",
      "Requirement already satisfied: joblib>=1.1.1 in /Users/ystaudt/opt/anaconda3/envs/keras/lib/python3.10/site-packages (from scikit-learn) (1.2.0)\r\n",
      "Requirement already satisfied: threadpoolctl>=2.0.0 in /Users/ystaudt/opt/anaconda3/envs/keras/lib/python3.10/site-packages (from scikit-learn) (3.1.0)\r\n",
      "Requirement already satisfied: scipy>=1.3.2 in /Users/ystaudt/opt/anaconda3/envs/keras/lib/python3.10/site-packages (from scikit-learn) (1.10.1)\r\n",
      "Requirement already satisfied: numpy>=1.17.3 in /Users/ystaudt/opt/anaconda3/envs/keras/lib/python3.10/site-packages (from scikit-learn) (1.24.2)\r\n",
      "Collecting plotly\r\n",
      "  Downloading plotly-5.14.1-py2.py3-none-any.whl (15.3 MB)\r\n",
      "\u001b[2K     \u001b[90m━━━━━━━━━━━━━━━━━━━━━━━━━━━━━━━━━━━━━━━━\u001b[0m \u001b[32m15.3/15.3 MB\u001b[0m \u001b[31m30.4 MB/s\u001b[0m eta \u001b[36m0:00:00\u001b[0m00:01\u001b[0m00:01\u001b[0m\r\n",
      "\u001b[?25hCollecting tenacity>=6.2.0\r\n",
      "  Downloading tenacity-8.2.2-py3-none-any.whl (24 kB)\r\n",
      "Requirement already satisfied: packaging in /Users/ystaudt/opt/anaconda3/envs/keras/lib/python3.10/site-packages (from plotly) (23.0)\r\n",
      "Installing collected packages: tenacity, plotly\r\n",
      "Successfully installed plotly-5.14.1 tenacity-8.2.2\r\n",
      "Requirement already satisfied: matplotlib in /Users/ystaudt/opt/anaconda3/envs/keras/lib/python3.10/site-packages (3.7.1)\r\n",
      "Requirement already satisfied: pyparsing>=2.3.1 in /Users/ystaudt/opt/anaconda3/envs/keras/lib/python3.10/site-packages (from matplotlib) (3.0.9)\r\n",
      "Requirement already satisfied: fonttools>=4.22.0 in /Users/ystaudt/opt/anaconda3/envs/keras/lib/python3.10/site-packages (from matplotlib) (4.39.2)\r\n",
      "Requirement already satisfied: packaging>=20.0 in /Users/ystaudt/opt/anaconda3/envs/keras/lib/python3.10/site-packages (from matplotlib) (23.0)\r\n",
      "Requirement already satisfied: contourpy>=1.0.1 in /Users/ystaudt/opt/anaconda3/envs/keras/lib/python3.10/site-packages (from matplotlib) (1.0.7)\r\n",
      "Requirement already satisfied: python-dateutil>=2.7 in /Users/ystaudt/opt/anaconda3/envs/keras/lib/python3.10/site-packages (from matplotlib) (2.8.2)\r\n",
      "Requirement already satisfied: kiwisolver>=1.0.1 in /Users/ystaudt/opt/anaconda3/envs/keras/lib/python3.10/site-packages (from matplotlib) (1.4.4)\r\n",
      "Requirement already satisfied: pillow>=6.2.0 in /Users/ystaudt/opt/anaconda3/envs/keras/lib/python3.10/site-packages (from matplotlib) (9.4.0)\r\n",
      "Requirement already satisfied: numpy>=1.20 in /Users/ystaudt/opt/anaconda3/envs/keras/lib/python3.10/site-packages (from matplotlib) (1.24.2)\r\n",
      "Requirement already satisfied: cycler>=0.10 in /Users/ystaudt/opt/anaconda3/envs/keras/lib/python3.10/site-packages (from matplotlib) (0.11.0)\r\n",
      "Requirement already satisfied: six>=1.5 in /Users/ystaudt/opt/anaconda3/envs/keras/lib/python3.10/site-packages (from python-dateutil>=2.7->matplotlib) (1.16.0)\r\n",
      "Requirement already satisfied: tensorflow in /Users/ystaudt/opt/anaconda3/envs/keras/lib/python3.10/site-packages (2.11.0)\r\n",
      "Requirement already satisfied: gast<=0.4.0,>=0.2.1 in /Users/ystaudt/opt/anaconda3/envs/keras/lib/python3.10/site-packages (from tensorflow) (0.4.0)\r\n",
      "Requirement already satisfied: setuptools in /Users/ystaudt/opt/anaconda3/envs/keras/lib/python3.10/site-packages (from tensorflow) (65.6.3)\r\n",
      "Requirement already satisfied: numpy>=1.20 in /Users/ystaudt/opt/anaconda3/envs/keras/lib/python3.10/site-packages (from tensorflow) (1.24.2)\r\n",
      "Requirement already satisfied: keras<2.12,>=2.11.0 in /Users/ystaudt/opt/anaconda3/envs/keras/lib/python3.10/site-packages (from tensorflow) (2.11.0)\r\n",
      "Requirement already satisfied: astunparse>=1.6.0 in /Users/ystaudt/opt/anaconda3/envs/keras/lib/python3.10/site-packages (from tensorflow) (1.6.3)\r\n",
      "Requirement already satisfied: termcolor>=1.1.0 in /Users/ystaudt/opt/anaconda3/envs/keras/lib/python3.10/site-packages (from tensorflow) (2.2.0)\r\n",
      "Requirement already satisfied: tensorboard<2.12,>=2.11 in /Users/ystaudt/opt/anaconda3/envs/keras/lib/python3.10/site-packages (from tensorflow) (2.11.2)\r\n",
      "Requirement already satisfied: wrapt>=1.11.0 in /Users/ystaudt/opt/anaconda3/envs/keras/lib/python3.10/site-packages (from tensorflow) (1.15.0)\r\n",
      "Requirement already satisfied: absl-py>=1.0.0 in /Users/ystaudt/opt/anaconda3/envs/keras/lib/python3.10/site-packages (from tensorflow) (1.4.0)\r\n",
      "Requirement already satisfied: libclang>=13.0.0 in /Users/ystaudt/opt/anaconda3/envs/keras/lib/python3.10/site-packages (from tensorflow) (15.0.6.1)\r\n",
      "Requirement already satisfied: opt-einsum>=2.3.2 in /Users/ystaudt/opt/anaconda3/envs/keras/lib/python3.10/site-packages (from tensorflow) (3.3.0)\r\n",
      "Requirement already satisfied: packaging in /Users/ystaudt/opt/anaconda3/envs/keras/lib/python3.10/site-packages (from tensorflow) (23.0)\r\n",
      "Requirement already satisfied: google-pasta>=0.1.1 in /Users/ystaudt/opt/anaconda3/envs/keras/lib/python3.10/site-packages (from tensorflow) (0.2.0)\r\n",
      "Requirement already satisfied: protobuf<3.20,>=3.9.2 in /Users/ystaudt/opt/anaconda3/envs/keras/lib/python3.10/site-packages (from tensorflow) (3.19.6)\r\n",
      "Requirement already satisfied: typing-extensions>=3.6.6 in /Users/ystaudt/opt/anaconda3/envs/keras/lib/python3.10/site-packages (from tensorflow) (4.5.0)\r\n",
      "Requirement already satisfied: grpcio<2.0,>=1.24.3 in /Users/ystaudt/opt/anaconda3/envs/keras/lib/python3.10/site-packages (from tensorflow) (1.51.3)\r\n",
      "Requirement already satisfied: tensorflow-estimator<2.12,>=2.11.0 in /Users/ystaudt/opt/anaconda3/envs/keras/lib/python3.10/site-packages (from tensorflow) (2.11.0)\r\n",
      "Requirement already satisfied: tensorflow-io-gcs-filesystem>=0.23.1 in /Users/ystaudt/opt/anaconda3/envs/keras/lib/python3.10/site-packages (from tensorflow) (0.31.0)\r\n",
      "Requirement already satisfied: h5py>=2.9.0 in /Users/ystaudt/opt/anaconda3/envs/keras/lib/python3.10/site-packages (from tensorflow) (3.8.0)\r\n",
      "Requirement already satisfied: flatbuffers>=2.0 in /Users/ystaudt/opt/anaconda3/envs/keras/lib/python3.10/site-packages (from tensorflow) (23.3.3)\r\n",
      "Requirement already satisfied: six>=1.12.0 in /Users/ystaudt/opt/anaconda3/envs/keras/lib/python3.10/site-packages (from tensorflow) (1.16.0)\r\n",
      "Requirement already satisfied: wheel<1.0,>=0.23.0 in /Users/ystaudt/opt/anaconda3/envs/keras/lib/python3.10/site-packages (from astunparse>=1.6.0->tensorflow) (0.38.4)\r\n",
      "Requirement already satisfied: werkzeug>=1.0.1 in /Users/ystaudt/opt/anaconda3/envs/keras/lib/python3.10/site-packages (from tensorboard<2.12,>=2.11->tensorflow) (2.2.3)\r\n",
      "Requirement already satisfied: google-auth<3,>=1.6.3 in /Users/ystaudt/opt/anaconda3/envs/keras/lib/python3.10/site-packages (from tensorboard<2.12,>=2.11->tensorflow) (2.16.2)\r\n",
      "Requirement already satisfied: tensorboard-data-server<0.7.0,>=0.6.0 in /Users/ystaudt/opt/anaconda3/envs/keras/lib/python3.10/site-packages (from tensorboard<2.12,>=2.11->tensorflow) (0.6.1)\r\n",
      "Requirement already satisfied: markdown>=2.6.8 in /Users/ystaudt/opt/anaconda3/envs/keras/lib/python3.10/site-packages (from tensorboard<2.12,>=2.11->tensorflow) (3.4.1)\r\n",
      "Requirement already satisfied: tensorboard-plugin-wit>=1.6.0 in /Users/ystaudt/opt/anaconda3/envs/keras/lib/python3.10/site-packages (from tensorboard<2.12,>=2.11->tensorflow) (1.8.1)\r\n",
      "Requirement already satisfied: google-auth-oauthlib<0.5,>=0.4.1 in /Users/ystaudt/opt/anaconda3/envs/keras/lib/python3.10/site-packages (from tensorboard<2.12,>=2.11->tensorflow) (0.4.6)\r\n",
      "Requirement already satisfied: requests<3,>=2.21.0 in /Users/ystaudt/opt/anaconda3/envs/keras/lib/python3.10/site-packages (from tensorboard<2.12,>=2.11->tensorflow) (2.28.2)\r\n",
      "Requirement already satisfied: cachetools<6.0,>=2.0.0 in /Users/ystaudt/opt/anaconda3/envs/keras/lib/python3.10/site-packages (from google-auth<3,>=1.6.3->tensorboard<2.12,>=2.11->tensorflow) (5.3.0)\r\n",
      "Requirement already satisfied: rsa<5,>=3.1.4 in /Users/ystaudt/opt/anaconda3/envs/keras/lib/python3.10/site-packages (from google-auth<3,>=1.6.3->tensorboard<2.12,>=2.11->tensorflow) (4.9)\r\n",
      "Requirement already satisfied: pyasn1-modules>=0.2.1 in /Users/ystaudt/opt/anaconda3/envs/keras/lib/python3.10/site-packages (from google-auth<3,>=1.6.3->tensorboard<2.12,>=2.11->tensorflow) (0.2.8)\r\n",
      "Requirement already satisfied: requests-oauthlib>=0.7.0 in /Users/ystaudt/opt/anaconda3/envs/keras/lib/python3.10/site-packages (from google-auth-oauthlib<0.5,>=0.4.1->tensorboard<2.12,>=2.11->tensorflow) (1.3.1)\r\n",
      "Requirement already satisfied: charset-normalizer<4,>=2 in /Users/ystaudt/opt/anaconda3/envs/keras/lib/python3.10/site-packages (from requests<3,>=2.21.0->tensorboard<2.12,>=2.11->tensorflow) (3.1.0)\r\n",
      "Requirement already satisfied: certifi>=2017.4.17 in /Users/ystaudt/opt/anaconda3/envs/keras/lib/python3.10/site-packages (from requests<3,>=2.21.0->tensorboard<2.12,>=2.11->tensorflow) (2022.12.7)\r\n",
      "Requirement already satisfied: urllib3<1.27,>=1.21.1 in /Users/ystaudt/opt/anaconda3/envs/keras/lib/python3.10/site-packages (from requests<3,>=2.21.0->tensorboard<2.12,>=2.11->tensorflow) (1.26.15)\r\n",
      "Requirement already satisfied: idna<4,>=2.5 in /Users/ystaudt/opt/anaconda3/envs/keras/lib/python3.10/site-packages (from requests<3,>=2.21.0->tensorboard<2.12,>=2.11->tensorflow) (3.4)\r\n",
      "Requirement already satisfied: MarkupSafe>=2.1.1 in /Users/ystaudt/opt/anaconda3/envs/keras/lib/python3.10/site-packages (from werkzeug>=1.0.1->tensorboard<2.12,>=2.11->tensorflow) (2.1.2)\r\n",
      "Requirement already satisfied: pyasn1<0.5.0,>=0.4.6 in /Users/ystaudt/opt/anaconda3/envs/keras/lib/python3.10/site-packages (from pyasn1-modules>=0.2.1->google-auth<3,>=1.6.3->tensorboard<2.12,>=2.11->tensorflow) (0.4.8)\r\n",
      "Requirement already satisfied: oauthlib>=3.0.0 in /Users/ystaudt/opt/anaconda3/envs/keras/lib/python3.10/site-packages (from requests-oauthlib>=0.7.0->google-auth-oauthlib<0.5,>=0.4.1->tensorboard<2.12,>=2.11->tensorflow) (3.2.2)\r\n"
     ]
    }
   ],
   "source": [
    "## Installation der Pakete\n",
    "import sys\n",
    "!{sys.executable} -m pip install numpy\n",
    "!{sys.executable} -m pip install pandas\n",
    "!{sys.executable} -m pip install scikit-learn\n",
    "!{sys.executable} -m pip install plotly\n",
    "!{sys.executable} -m pip install matplotlib\n",
    "!{sys.executable} -m pip install tensorflow\n"
   ]
  },
  {
   "cell_type": "markdown",
   "metadata": {
    "collapsed": false,
    "jupyter": {
     "outputs_hidden": false
    }
   },
   "source": [
    "### NumPy Kontrolle"
   ]
  },
  {
   "cell_type": "code",
   "execution_count": 4,
   "metadata": {
    "collapsed": false,
    "jupyter": {
     "outputs_hidden": false
    }
   },
   "outputs": [
    {
     "data": {
      "text/plain": [
       "'1.26.4'"
      ]
     },
     "execution_count": 4,
     "metadata": {},
     "output_type": "execute_result"
    }
   ],
   "source": [
    "import numpy as np\n",
    "\n",
    "np.__version__"
   ]
  },
  {
   "cell_type": "code",
   "execution_count": 5,
   "metadata": {
    "collapsed": false,
    "jupyter": {
     "outputs_hidden": false
    }
   },
   "outputs": [
    {
     "name": "stdout",
     "output_type": "stream",
     "text": [
      "Numpy Version is OK\n"
     ]
    }
   ],
   "source": [
    "assert np.__version__ > \"1.20\"\n",
    "print(\"Numpy Version is OK\")"
   ]
  },
  {
   "cell_type": "markdown",
   "metadata": {
    "collapsed": false,
    "jupyter": {
     "outputs_hidden": false
    }
   },
   "source": [
    "### Pandas Kontrolle"
   ]
  },
  {
   "cell_type": "code",
   "execution_count": 6,
   "metadata": {
    "collapsed": false,
    "jupyter": {
     "outputs_hidden": false
    }
   },
   "outputs": [
    {
     "data": {
      "text/plain": [
       "'2.2.2'"
      ]
     },
     "execution_count": 6,
     "metadata": {},
     "output_type": "execute_result"
    }
   ],
   "source": [
    "import pandas as pd\n",
    "\n",
    "pd.__version__"
   ]
  },
  {
   "cell_type": "code",
   "execution_count": 7,
   "metadata": {
    "collapsed": false,
    "jupyter": {
     "outputs_hidden": false
    }
   },
   "outputs": [
    {
     "name": "stdout",
     "output_type": "stream",
     "text": [
      "\n",
      "INSTALLED VERSIONS\n",
      "------------------\n",
      "commit                : d9cdd2ee5a58015ef6f4d15c7226110c9aab8140\n",
      "python                : 3.12.3.final.0\n",
      "python-bits           : 64\n",
      "OS                    : Darwin\n",
      "OS-release            : 23.5.0\n",
      "Version               : Darwin Kernel Version 23.5.0: Tue Mar 26 20:55:21 PDT 2024; root:xnu-10063.120.88.501.3~2/RELEASE_ARM64_T6031\n",
      "machine               : arm64\n",
      "processor             : arm\n",
      "byteorder             : little\n",
      "LC_ALL                : None\n",
      "LANG                  : en_US.UTF-8\n",
      "LOCALE                : en_US.UTF-8\n",
      "\n",
      "pandas                : 2.2.2\n",
      "numpy                 : 1.26.4\n",
      "pytz                  : 2024.1\n",
      "dateutil              : 2.9.0.post0\n",
      "setuptools            : 69.5.1\n",
      "pip                   : 24.0\n",
      "Cython                : None\n",
      "pytest                : None\n",
      "hypothesis            : None\n",
      "sphinx                : None\n",
      "blosc                 : None\n",
      "feather               : None\n",
      "xlsxwriter            : None\n",
      "lxml.etree            : None\n",
      "html5lib              : None\n",
      "pymysql               : None\n",
      "psycopg2              : None\n",
      "jinja2                : 3.1.3\n",
      "IPython               : 8.23.0\n",
      "pandas_datareader     : None\n",
      "adbc-driver-postgresql: None\n",
      "adbc-driver-sqlite    : None\n",
      "bs4                   : 4.12.3\n",
      "bottleneck            : None\n",
      "dataframe-api-compat  : None\n",
      "fastparquet           : None\n",
      "fsspec                : None\n",
      "gcsfs                 : None\n",
      "matplotlib            : 3.8.4\n",
      "numba                 : None\n",
      "numexpr               : None\n",
      "odfpy                 : None\n",
      "openpyxl              : None\n",
      "pandas_gbq            : None\n",
      "pyarrow               : None\n",
      "pyreadstat            : None\n",
      "python-calamine       : None\n",
      "pyxlsb                : None\n",
      "s3fs                  : None\n",
      "scipy                 : 1.13.0\n",
      "sqlalchemy            : None\n",
      "tables                : None\n",
      "tabulate              : None\n",
      "xarray                : None\n",
      "xlrd                  : None\n",
      "zstandard             : None\n",
      "tzdata                : 2024.1\n",
      "qtpy                  : None\n",
      "pyqt5                 : None\n"
     ]
    }
   ],
   "source": [
    "pd.show_versions()"
   ]
  },
  {
   "cell_type": "code",
   "execution_count": 8,
   "metadata": {
    "collapsed": false,
    "jupyter": {
     "outputs_hidden": false
    }
   },
   "outputs": [
    {
     "name": "stdout",
     "output_type": "stream",
     "text": [
      "Pandas Version is OK\n"
     ]
    }
   ],
   "source": [
    "assert pd.__version__ >\"1.5\"\n",
    "print(\"Pandas Version is OK\")"
   ]
  },
  {
   "cell_type": "markdown",
   "metadata": {
    "collapsed": false,
    "jupyter": {
     "outputs_hidden": false
    }
   },
   "source": [
    "## Kontrolle Scikit-Learn"
   ]
  },
  {
   "cell_type": "code",
   "execution_count": 9,
   "metadata": {
    "collapsed": false,
    "jupyter": {
     "outputs_hidden": false
    }
   },
   "outputs": [
    {
     "data": {
      "text/plain": [
       "'1.4.2'"
      ]
     },
     "execution_count": 9,
     "metadata": {},
     "output_type": "execute_result"
    }
   ],
   "source": [
    "import sklearn\n",
    "\n",
    "sklearn.__version__"
   ]
  },
  {
   "cell_type": "code",
   "execution_count": 10,
   "metadata": {
    "collapsed": false,
    "jupyter": {
     "outputs_hidden": false
    }
   },
   "outputs": [
    {
     "name": "stdout",
     "output_type": "stream",
     "text": [
      "Scikit Learn Version is OK\n"
     ]
    }
   ],
   "source": [
    "assert sklearn.__version__ > \"1.2\"\n",
    "print(\"Scikit Learn Version is OK\")"
   ]
  },
  {
   "cell_type": "markdown",
   "metadata": {
    "collapsed": false,
    "jupyter": {
     "outputs_hidden": false
    }
   },
   "source": [
    "## Kontrolle Matplotlib"
   ]
  },
  {
   "cell_type": "code",
   "execution_count": 11,
   "metadata": {
    "collapsed": false,
    "jupyter": {
     "outputs_hidden": false
    }
   },
   "outputs": [
    {
     "data": {
      "text/plain": [
       "'3.8.4'"
      ]
     },
     "execution_count": 11,
     "metadata": {},
     "output_type": "execute_result"
    }
   ],
   "source": [
    "import matplotlib\n",
    "\n",
    "matplotlib.__version__"
   ]
  },
  {
   "cell_type": "code",
   "execution_count": 12,
   "metadata": {
    "collapsed": false,
    "jupyter": {
     "outputs_hidden": false
    }
   },
   "outputs": [
    {
     "name": "stdout",
     "output_type": "stream",
     "text": [
      "Matplotlib Version is OK\n"
     ]
    }
   ],
   "source": [
    "assert matplotlib.__version__ >\"3.6.5\"\n",
    "print(\"Matplotlib Version is OK\")"
   ]
  },
  {
   "cell_type": "markdown",
   "metadata": {
    "collapsed": false,
    "jupyter": {
     "outputs_hidden": false
    }
   },
   "source": [
    "## Kontrolle Plotly"
   ]
  },
  {
   "cell_type": "code",
   "execution_count": 13,
   "metadata": {
    "collapsed": false,
    "jupyter": {
     "outputs_hidden": false
    }
   },
   "outputs": [
    {
     "data": {
      "text/plain": [
       "'5.21.0'"
      ]
     },
     "execution_count": 13,
     "metadata": {},
     "output_type": "execute_result"
    }
   ],
   "source": [
    "import plotly\n",
    "\n",
    "plotly.__version__"
   ]
  },
  {
   "cell_type": "code",
   "execution_count": 14,
   "metadata": {
    "collapsed": false,
    "jupyter": {
     "outputs_hidden": false
    }
   },
   "outputs": [
    {
     "name": "stdout",
     "output_type": "stream",
     "text": [
      "Plotly Version is OK\n"
     ]
    }
   ],
   "source": [
    "assert plotly.__version__ > \"5.10\"\n",
    "\n",
    "print(\"Plotly Version is OK\")"
   ]
  },
  {
   "cell_type": "markdown",
   "metadata": {
    "collapsed": false,
    "jupyter": {
     "outputs_hidden": false
    }
   },
   "source": [
    "## Kontrolle Tensorflow"
   ]
  },
  {
   "cell_type": "code",
   "execution_count": 15,
   "metadata": {
    "collapsed": false,
    "jupyter": {
     "outputs_hidden": false
    }
   },
   "outputs": [
    {
     "data": {
      "text/plain": [
       "'2.16.1'"
      ]
     },
     "execution_count": 15,
     "metadata": {},
     "output_type": "execute_result"
    }
   ],
   "source": [
    "import tensorflow as tf\n",
    "tf.__version__"
   ]
  },
  {
   "cell_type": "code",
   "execution_count": 17,
   "metadata": {
    "collapsed": false,
    "jupyter": {
     "outputs_hidden": false
    }
   },
   "outputs": [
    {
     "name": "stdout",
     "output_type": "stream",
     "text": [
      "Tensorflow Version is OK\n"
     ]
    }
   ],
   "source": [
    "assert tf.__version__ > \"2.10\"\n",
    "\n",
    "print(\"Tensorflow Version is OK\")"
   ]
  }
 ],
 "metadata": {
  "kernelspec": {
   "display_name": "Python 3 (ipykernel)",
   "language": "python",
   "name": "python3"
  },
  "language_info": {
   "codemirror_mode": {
    "name": "ipython",
    "version": 3
   },
   "file_extension": ".py",
   "mimetype": "text/x-python",
   "name": "python",
   "nbconvert_exporter": "python",
   "pygments_lexer": "ipython3",
   "version": "3.12.3"
  }
 },
 "nbformat": 4,
 "nbformat_minor": 4
}
